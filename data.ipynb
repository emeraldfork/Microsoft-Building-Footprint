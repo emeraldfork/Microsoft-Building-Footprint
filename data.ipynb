{
 "cells": [
  {
   "cell_type": "code",
   "execution_count": 1,
   "metadata": {},
   "outputs": [],
   "source": [
    "import json\n",
    "import psycopg2"
   ]
  },
  {
   "cell_type": "code",
   "execution_count": 2,
   "metadata": {},
   "outputs": [],
   "source": [
    "def connect(host=\"localhost\", database=\"\", user=\"\", password=\"\"):\n",
    "    conn = psycopg2.connect(\n",
    "        host=host,\n",
    "        database=database,\n",
    "        user=user,\n",
    "        password=password)\n",
    "    conn.autocommit = True\n",
    "    cur = conn.cursor()\n",
    "    return cur\n",
    "\n",
    "cur = connect()\n"
   ]
  },
  {
   "cell_type": "code",
   "execution_count": 10,
   "metadata": {},
   "outputs": [],
   "source": [
    "file = open(r\"data\\Turkey.geojsonl\",\"r\").readlines()\n",
    "sql = \"\"\"INSERT INTO microsoftbuildingfootprint(geom) values(st_astext(ST_GeomFromGeoJSON('{}')))\"\"\"\n",
    "for i in file:\n",
    "    sql_send = sql.format(json.dumps(json.loads(i)[\"geometry\"]))\n",
    "    cur.execute(sql_send)\n",
    "\n",
    "    "
   ]
  }
 ],
 "metadata": {
  "kernelspec": {
   "display_name": "Python 3.8.10 64-bit",
   "language": "python",
   "name": "python3"
  },
  "language_info": {
   "codemirror_mode": {
    "name": "ipython",
    "version": 3
   },
   "file_extension": ".py",
   "mimetype": "text/x-python",
   "name": "python",
   "nbconvert_exporter": "python",
   "pygments_lexer": "ipython3",
   "version": "3.8.10 (tags/v3.8.10:3d8993a, May  3 2021, 11:48:03) [MSC v.1928 64 bit (AMD64)]"
  },
  "orig_nbformat": 4,
  "vscode": {
   "interpreter": {
    "hash": "c6ca47505097aade638c15702eb53e4dfa0a2a02ce0810430ab7abf234a4d77e"
   }
  }
 },
 "nbformat": 4,
 "nbformat_minor": 2
}
